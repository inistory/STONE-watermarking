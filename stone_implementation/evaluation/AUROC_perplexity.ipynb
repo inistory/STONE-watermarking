{
 "cells": [
  {
   "cell_type": "code",
   "execution_count": null,
   "metadata": {},
   "outputs": [],
   "source": [
    "import pickle\n",
    "\n",
    "data = 'mbppplus'\n",
    "language = 'python'\n",
    "model = 'qwen'\n",
    "method = 'STONE'\n",
    "gamma = 0.5\n",
    "delta = 1.0\n",
    "file_path = f'../results/5samples/{data}_{language}_{model}_{method}_all_pl_False_{gamma}_{delta}_15485863__evaluation_results.pickle'\n",
    "\n",
    "with open(file_path, 'rb') as file:\n",
    "    eval_results = pickle.load(file)\n",
    "\n",
    "print(eval_results['roc_aur-human-watermarked'])\n",
    "print(eval_results['average_perplexity_watermarked'])\n",
    "print(eval_results['average_perplexity_unwatermarked'])"
   ]
  },
  {
   "cell_type": "code",
   "execution_count": null,
   "metadata": {},
   "outputs": [],
   "source": [
    "import pickle\n",
    "\n",
    "data = 'humanevalplus'\n",
    "language = 'python'\n",
    "model = 'qwen'\n",
    "method = 'STONE'\n",
    "gamma = 0.5\n",
    "delta = 0.5\n",
    "file_path = f'../results/5samples/{data}_{language}_{model}_{method}_all_pl_False_{gamma}_{delta}_15485863__evaluation_results.pickle'\n",
    "\n",
    "with open(file_path, 'rb') as file:\n",
    "    eval_results = pickle.load(file)\n",
    "\n",
    "print(eval_results['roc_aur-human-watermarked'])\n",
    "print(eval_results['average_perplexity_watermarked'])\n",
    "print(eval_results['average_perplexity_unwatermarked'])"
   ]
  },
  {
   "cell_type": "code",
   "execution_count": null,
   "metadata": {},
   "outputs": [],
   "source": [
    "import pickle\n",
    "\n",
    "data = 'humanevalpack'\n",
    "language = 'cpp'\n",
    "model = 'qwen'\n",
    "method = 'STONE'\n",
    "gamma = 0.5\n",
    "delta = 0.5\n",
    "file_path = f'../results/5samples/{data}_{language}_{model}_{method}_all_pl_False_{gamma}_{delta}_15485863__evaluation_results.pickle'\n",
    "\n",
    "with open(file_path, 'rb') as file:\n",
    "    eval_results = pickle.load(file)\n",
    "\n",
    "print(eval_results['roc_aur-human-watermarked'])\n",
    "print(eval_results['average_perplexity_watermarked'])\n",
    "print(eval_results['average_perplexity_unwatermarked'])"
   ]
  }
 ],
 "metadata": {
  "kernelspec": {
   "display_name": "stone",
   "language": "python",
   "name": "python3"
  },
  "language_info": {
   "codemirror_mode": {
    "name": "ipython",
    "version": 3
   },
   "file_extension": ".py",
   "mimetype": "text/x-python",
   "name": "python",
   "nbconvert_exporter": "python",
   "pygments_lexer": "ipython3",
   "version": "3.9.19"
  }
 },
 "nbformat": 4,
 "nbformat_minor": 2
}
